{
  "nbformat": 4,
  "nbformat_minor": 0,
  "metadata": {
    "colab": {
      "provenance": [],
      "authorship_tag": "ABX9TyPHhrg8dgmT3E8osKXmO0zZ",
      "include_colab_link": true
    },
    "kernelspec": {
      "name": "python3",
      "display_name": "Python 3"
    },
    "language_info": {
      "name": "python"
    }
  },
  "cells": [
    {
      "cell_type": "markdown",
      "metadata": {
        "id": "view-in-github",
        "colab_type": "text"
      },
      "source": [
        "<a href=\"https://colab.research.google.com/github/Krishna-coder6111/3d-object/blob/main/cashlesskpis.ipynb\" target=\"_parent\"><img src=\"https://colab.research.google.com/assets/colab-badge.svg\" alt=\"Open In Colab\"/></a>"
      ]
    },
    {
      "cell_type": "markdown",
      "source": [
        "importing the excel file through google drive."
      ],
      "metadata": {
        "id": "2JlCKlQE4ncN"
      }
    },
    {
      "cell_type": "code",
      "execution_count": null,
      "metadata": {
        "id": "7m7rjeCM28MS",
        "colab": {
          "base_uri": "https://localhost:8080/"
        },
        "outputId": "fb350a4c-6fa8-4e7b-e756-2dc4149b3001"
      },
      "outputs": [
        {
          "output_type": "stream",
          "name": "stdout",
          "text": [
            "Mounted at /content/drive\n"
          ]
        }
      ],
      "source": [
        "import io\n",
        "import pandas as pd\n",
        "from google.colab import drive\n",
        "import glob\n",
        "import os\n",
        "drive.mount('/content/drive')\n",
        "\n",
        "df = pd.read_excel('/content/drive/My Drive/reports/CP Pilot Due Bill 08-26-2023.xlsx')"
      ]
    },
    {
      "cell_type": "markdown",
      "source": [
        "xlwings is used for:\n",
        "\n",
        "1.   Automate Excel with Python, such as producing reports\n",
        "2. Write macros in Python, and run from Excel by clicking on a button\n",
        "3. Write user-defined functions in Python, and call those function from Excel just like any excel function\n",
        "\n"
      ],
      "metadata": {
        "id": "MINoHckg4lm_"
      }
    },
    {
      "cell_type": "code",
      "source": [
        "pip install xlwings"
      ],
      "metadata": {
        "colab": {
          "base_uri": "https://localhost:8080/"
        },
        "id": "ridttPyj4kxA",
        "outputId": "14dca94f-4c62-4774-f2e8-a567db06041b"
      },
      "execution_count": null,
      "outputs": [
        {
          "output_type": "stream",
          "name": "stdout",
          "text": [
            "Collecting xlwings\n",
            "  Downloading xlwings-0.30.10-cp310-cp310-manylinux_2_17_x86_64.manylinux2014_x86_64.whl (2.3 MB)\n",
            "\u001b[2K     \u001b[90m━━━━━━━━━━━━━━━━━━━━━━━━━━━━━━━━━━━━━━━━\u001b[0m \u001b[32m2.3/2.3 MB\u001b[0m \u001b[31m15.3 MB/s\u001b[0m eta \u001b[36m0:00:00\u001b[0m\n",
            "\u001b[?25hInstalling collected packages: xlwings\n",
            "Successfully installed xlwings-0.30.10\n"
          ]
        }
      ]
    },
    {
      "cell_type": "code",
      "source": [
        "print(df['Invoice Date'])"
      ],
      "metadata": {
        "colab": {
          "base_uri": "https://localhost:8080/"
        },
        "id": "qcfBlY8p5epD",
        "outputId": "c7d2899b-5c10-44f6-dfd2-72587281d4bd"
      },
      "execution_count": null,
      "outputs": [
        {
          "output_type": "stream",
          "name": "stdout",
          "text": [
            "0    2023-08-24\n",
            "1           NaT\n",
            "2    2023-07-13\n",
            "3    2023-07-18\n",
            "4           NaT\n",
            "        ...    \n",
            "60   2023-08-24\n",
            "61          NaT\n",
            "62   2023-08-26\n",
            "63          NaT\n",
            "64          NaT\n",
            "Name: Invoice Date, Length: 65, dtype: datetime64[ns]\n"
          ]
        }
      ]
    },
    {
      "cell_type": "code",
      "source": [
        "pip install xlsxwriter"
      ],
      "metadata": {
        "colab": {
          "base_uri": "https://localhost:8080/"
        },
        "id": "X3Md3N4ZTBip",
        "outputId": "27063134-143b-4f8a-8eb6-3ced1417eafb"
      },
      "execution_count": null,
      "outputs": [
        {
          "output_type": "stream",
          "name": "stdout",
          "text": [
            "Collecting xlsxwriter\n",
            "  Downloading XlsxWriter-3.1.3-py3-none-any.whl (153 kB)\n",
            "\u001b[2K     \u001b[90m━━━━━━━━━━━━━━━━━━━━━━━━━━━━━━━━━━━━━━━\u001b[0m \u001b[32m153.2/153.2 kB\u001b[0m \u001b[31m2.6 MB/s\u001b[0m eta \u001b[36m0:00:00\u001b[0m\n",
            "\u001b[?25hInstalling collected packages: xlsxwriter\n",
            "Successfully installed xlsxwriter-3.1.3\n"
          ]
        }
      ]
    },
    {
      "cell_type": "markdown",
      "source": [
        "filtering the data based on specifications:\n",
        "\n",
        "1.   More than 1 due for a customer\n",
        "2.   Cashless Y\n",
        "3.   Time past \"24 hours\" [which is actually 2 days]"
      ],
      "metadata": {
        "id": "t57euh-A89RQ"
      }
    },
    {
      "cell_type": "code",
      "source": [
        "from datetime import datetime, timedelta\n",
        "\n",
        "# Function to filter the data\n",
        "def filter_data(df):\n",
        "    # Convert 'Invoice Date' to datetime\n",
        "    df['Invoice Date'] = pd.to_datetime(df['Invoice Date'])\n",
        "\n",
        "    # Identify the correct column for Cashless (either 'Cashless' or 'Cashless?')\n",
        "    cashless_column = 'Cashless Flag' if 'Cashless Flag' in df.keys() else 'Cashless'\n",
        "\n",
        "    # Filter based on the conditions: 'Invoice Date', 'Cashless', and 'Due Bill Amount' should be non-negative\n",
        "    two_days_ago = datetime.now() - timedelta(days=2)\n",
        "    filtered_df = df[(df['Invoice Date'] < two_days_ago) & (df[cashless_column] == 'Y') & (df['Due Bill Amount'] >= 0)]\n",
        "\n",
        "\n",
        "    # Function to filter groups with more than one row\n",
        "    def filter_groups(group):\n",
        "        return group.shape[0] > 1\n",
        "\n",
        "    # Group by 'Customer #' and filter groups using the function above\n",
        "    return filtered_df.groupby('Customer #').filter(filter_groups)\n",
        "\n",
        "# Find the latest Excel file\n",
        "path_to_reports = '/content/drive/MyDrive/reports/*.xlsx'\n",
        "list_of_files = glob.glob(path_to_reports)\n",
        "latest_file = max(list_of_files, key=os.path.getctime)\n",
        "\n",
        "# Read all sheet names\n",
        "xls = pd.ExcelFile(latest_file)\n",
        "sheet_names = xls.sheet_names\n",
        "\n",
        "\n",
        "# Create a writer object to save multiple sheets to a new Excel file\n",
        "output_path = '/content/drive/MyDrive/customers_with_multiple_outstanding_invoices.xlsx'\n",
        "writer = pd.ExcelWriter(output_path, engine='xlsxwriter')\n",
        "\n",
        "def insert_total_due_rows(df):\n",
        "    # Compute the total due bill per 'Customer #'\n",
        "    total_due = df.groupby('Customer #')['Due Bill Amount'].sum().reset_index()\n",
        "    total_due['Customer Name'] = 'Total Due' # Add a 'Customer Name' column to identify the total due rows\n",
        "\n",
        "    # Initialize a list to hold the final rows, including the total due rows\n",
        "    final_rows = []\n",
        "\n",
        "    # Iterate through the filtered DataFrame and insert the total due rows\n",
        "    for customer_number, group in df.groupby('Customer #'):\n",
        "        group_rows = group.to_dict(orient='records')\n",
        "        total_due_row = total_due[total_due['Customer #'] == customer_number].to_dict(orient='records')[0]\n",
        "        final_rows.extend(group_rows + [total_due_row])\n",
        "\n",
        "    # Convert the final rows to a DataFrame\n",
        "    final_df = pd.DataFrame(final_rows)\n",
        "    return final_df\n",
        "\n",
        "# Loop through the sheets and apply the filtering logic\n",
        "with pd.ExcelWriter(output_path, engine='xlsxwriter') as writer:\n",
        "    for sheet_name in sheet_names:\n",
        "        df = pd.read_excel(latest_file, sheet_name=sheet_name)\n",
        "        #filtered_df = filter_data(df)\n",
        "        # Convert 'Invoice Date' to datetime\n",
        "        df['Invoice Date'] = pd.to_datetime(df['Invoice Date'])\n",
        "        # Identify the correct column for Cashless (either 'Cashless' or 'Cashless?')\n",
        "        cashless_column = 'Cashless Flag' if 'Cashless Flag' in df.keys() else 'Cashless'\n",
        "        filtered_df = ['hi', 'bye']\n",
        "        print(filtered_df)\n",
        "\n",
        "        # Filter based on the conditions: 'Invoice Date', 'Cashless', and 'Due Bill Amount' should be non-negative\n",
        "        two_days_ago = datetime.now() - timedelta(days=2)\n",
        "        filtered_df = df[(df['Invoice Date'] < two_days_ago) & (df[cashless_column] == 'Y') & (df['Due Bill Amount'] >= 0)]\n",
        "\n",
        "        print(filtered_df)\n",
        "\n",
        "\n",
        "        # Function to filter groups with more than one row\n",
        "        def filter_groups(group):\n",
        "            return group.shape[0] > 1\n",
        "\n",
        "        # Group by 'Customer #' and filter groups using the function above\n",
        "        filtered_df = filtered_df.groupby('Customer #').filter(filter_groups)\n",
        "\n",
        "        print(filtered_df)\n",
        "        #final_df = insert_total_due_rows(filtered_df)\n",
        "        # Compute the total due bill per 'Customer #'\n",
        "        total_due = filtered_df.groupby('Customer #')['Due Bill Amount'].sum().reset_index()\n",
        "        total_due['Customer Name'] = 'Total Due' # Add a 'Customer Name' column to identify the total due rows\n",
        "\n",
        "        # Initialize a list to hold the final rows, including the total due rows\n",
        "        final_rows = []\n",
        "\n",
        "        # Iterate through the filtered DataFrame and insert the total due rows\n",
        "        for customer_number, group in filtered_df.groupby('Customer #'):\n",
        "            group_rows = group.to_dict(orient='records')\n",
        "            total_due_row = total_due[total_due['Customer #'] == customer_number].to_dict(orient='records')[0]\n",
        "            final_rows.extend(group_rows + [total_due_row])\n",
        "\n",
        "        # Convert the final rows to a DataFrame\n",
        "        final_df = pd.DataFrame(final_rows)\n",
        "        # Convert 'Invoice Date' column back to string format\n",
        "        final_df['Invoice Date'] = final_df['Invoice Date'].dt.strftime('%m/%d/%Y')\n",
        "\n",
        "        # Write DataFrame to Excel\n",
        "        final_df.to_excel(writer, sheet_name=sheet_name, index=False)\n",
        "\n",
        "        # Get the xlsxwriter workbook and worksheet objects to apply formatting\n",
        "        workbook  = writer.book\n",
        "        worksheet = writer.sheets[sheet_name]\n",
        "\n",
        "        # Create a format for the total row with grey background, bold text, and smaller font\n",
        "        total_row_format = workbook.add_format({'bg_color': '#D3D3D3', 'bold': True, 'font_size': 11})\n",
        "\n",
        "        # Apply the format to the total rows\n",
        "        for row_num, row in final_df.iterrows():\n",
        "            if row['Customer Name'] == 'Total Due':\n",
        "                worksheet.set_row(row_num+1, None, total_row_format)\n",
        "\n",
        "        print(f\"Filtered data shape for sheet {sheet_name}: {final_df.shape}\") # Print the shape of the filtered data\n",
        "\n",
        "print(f\"File saved to {output_path}\")"
      ],
      "metadata": {
        "colab": {
          "base_uri": "https://localhost:8080/",
          "height": 722
        },
        "id": "rKGzhTy888c-",
        "outputId": "ee6dca8c-6c44-4147-dea1-e6c76915da33"
      },
      "execution_count": null,
      "outputs": [
        {
          "output_type": "stream",
          "name": "stdout",
          "text": [
            "['hi', 'bye']\n",
            "Empty DataFrame\n",
            "Columns: [Business Unit, Sub Market, Pay Lag, BUSS Environment, District #, District Name, Division #, Division Name, Sales Center #, Sale Center Name, Route #, Route Name, Cashless Flag, Customer #, Customer Name, Invoice Date, Invoice #, Sales Amount, ROA Amount, Due Bill Amount, Aging, Action Plan for Sales, Comments, Analyst]\n",
            "Index: []\n",
            "\n",
            "[0 rows x 24 columns]\n",
            "Empty DataFrame\n",
            "Columns: [Business Unit, Sub Market, Pay Lag, BUSS Environment, District #, District Name, Division #, Division Name, Sales Center #, Sale Center Name, Route #, Route Name, Cashless Flag, Customer #, Customer Name, Invoice Date, Invoice #, Sales Amount, ROA Amount, Due Bill Amount, Aging, Action Plan for Sales, Comments, Analyst]\n",
            "Index: []\n",
            "\n",
            "[0 rows x 24 columns]\n"
          ]
        },
        {
          "output_type": "error",
          "ename": "KeyError",
          "evalue": "ignored",
          "traceback": [
            "\u001b[0;31m---------------------------------------------------------------------------\u001b[0m",
            "\u001b[0;31mKeyError\u001b[0m                                  Traceback (most recent call last)",
            "\u001b[0;32m/usr/local/lib/python3.10/dist-packages/pandas/core/indexes/base.py\u001b[0m in \u001b[0;36mget_loc\u001b[0;34m(self, key, method, tolerance)\u001b[0m\n\u001b[1;32m   3801\u001b[0m             \u001b[0;32mtry\u001b[0m\u001b[0;34m:\u001b[0m\u001b[0;34m\u001b[0m\u001b[0;34m\u001b[0m\u001b[0m\n\u001b[0;32m-> 3802\u001b[0;31m                 \u001b[0;32mreturn\u001b[0m \u001b[0mself\u001b[0m\u001b[0;34m.\u001b[0m\u001b[0m_engine\u001b[0m\u001b[0;34m.\u001b[0m\u001b[0mget_loc\u001b[0m\u001b[0;34m(\u001b[0m\u001b[0mcasted_key\u001b[0m\u001b[0;34m)\u001b[0m\u001b[0;34m\u001b[0m\u001b[0;34m\u001b[0m\u001b[0m\n\u001b[0m\u001b[1;32m   3803\u001b[0m             \u001b[0;32mexcept\u001b[0m \u001b[0mKeyError\u001b[0m \u001b[0;32mas\u001b[0m \u001b[0merr\u001b[0m\u001b[0;34m:\u001b[0m\u001b[0;34m\u001b[0m\u001b[0;34m\u001b[0m\u001b[0m\n",
            "\u001b[0;32m/usr/local/lib/python3.10/dist-packages/pandas/_libs/index.pyx\u001b[0m in \u001b[0;36mpandas._libs.index.IndexEngine.get_loc\u001b[0;34m()\u001b[0m\n",
            "\u001b[0;32m/usr/local/lib/python3.10/dist-packages/pandas/_libs/index.pyx\u001b[0m in \u001b[0;36mpandas._libs.index.IndexEngine.get_loc\u001b[0;34m()\u001b[0m\n",
            "\u001b[0;32mpandas/_libs/hashtable_class_helper.pxi\u001b[0m in \u001b[0;36mpandas._libs.hashtable.PyObjectHashTable.get_item\u001b[0;34m()\u001b[0m\n",
            "\u001b[0;32mpandas/_libs/hashtable_class_helper.pxi\u001b[0m in \u001b[0;36mpandas._libs.hashtable.PyObjectHashTable.get_item\u001b[0;34m()\u001b[0m\n",
            "\u001b[0;31mKeyError\u001b[0m: 'Invoice Date'",
            "\nThe above exception was the direct cause of the following exception:\n",
            "\u001b[0;31mKeyError\u001b[0m                                  Traceback (most recent call last)",
            "\u001b[0;32m<ipython-input-5-bcf4eaf6f330>\u001b[0m in \u001b[0;36m<cell line: 56>\u001b[0;34m()\u001b[0m\n\u001b[1;32m     97\u001b[0m         \u001b[0mfinal_df\u001b[0m \u001b[0;34m=\u001b[0m \u001b[0mpd\u001b[0m\u001b[0;34m.\u001b[0m\u001b[0mDataFrame\u001b[0m\u001b[0;34m(\u001b[0m\u001b[0mfinal_rows\u001b[0m\u001b[0;34m)\u001b[0m\u001b[0;34m\u001b[0m\u001b[0;34m\u001b[0m\u001b[0m\n\u001b[1;32m     98\u001b[0m         \u001b[0;31m# Convert 'Invoice Date' column back to string format\u001b[0m\u001b[0;34m\u001b[0m\u001b[0;34m\u001b[0m\u001b[0m\n\u001b[0;32m---> 99\u001b[0;31m         \u001b[0mfinal_df\u001b[0m\u001b[0;34m[\u001b[0m\u001b[0;34m'Invoice Date'\u001b[0m\u001b[0;34m]\u001b[0m \u001b[0;34m=\u001b[0m \u001b[0mfinal_df\u001b[0m\u001b[0;34m[\u001b[0m\u001b[0;34m'Invoice Date'\u001b[0m\u001b[0;34m]\u001b[0m\u001b[0;34m.\u001b[0m\u001b[0mdt\u001b[0m\u001b[0;34m.\u001b[0m\u001b[0mstrftime\u001b[0m\u001b[0;34m(\u001b[0m\u001b[0;34m'%m/%d/%Y'\u001b[0m\u001b[0;34m)\u001b[0m\u001b[0;34m\u001b[0m\u001b[0;34m\u001b[0m\u001b[0m\n\u001b[0m\u001b[1;32m    100\u001b[0m \u001b[0;34m\u001b[0m\u001b[0m\n\u001b[1;32m    101\u001b[0m         \u001b[0;31m# Write DataFrame to Excel\u001b[0m\u001b[0;34m\u001b[0m\u001b[0;34m\u001b[0m\u001b[0m\n",
            "\u001b[0;32m/usr/local/lib/python3.10/dist-packages/pandas/core/frame.py\u001b[0m in \u001b[0;36m__getitem__\u001b[0;34m(self, key)\u001b[0m\n\u001b[1;32m   3805\u001b[0m             \u001b[0;32mif\u001b[0m \u001b[0mself\u001b[0m\u001b[0;34m.\u001b[0m\u001b[0mcolumns\u001b[0m\u001b[0;34m.\u001b[0m\u001b[0mnlevels\u001b[0m \u001b[0;34m>\u001b[0m \u001b[0;36m1\u001b[0m\u001b[0;34m:\u001b[0m\u001b[0;34m\u001b[0m\u001b[0;34m\u001b[0m\u001b[0m\n\u001b[1;32m   3806\u001b[0m                 \u001b[0;32mreturn\u001b[0m \u001b[0mself\u001b[0m\u001b[0;34m.\u001b[0m\u001b[0m_getitem_multilevel\u001b[0m\u001b[0;34m(\u001b[0m\u001b[0mkey\u001b[0m\u001b[0;34m)\u001b[0m\u001b[0;34m\u001b[0m\u001b[0;34m\u001b[0m\u001b[0m\n\u001b[0;32m-> 3807\u001b[0;31m             \u001b[0mindexer\u001b[0m \u001b[0;34m=\u001b[0m \u001b[0mself\u001b[0m\u001b[0;34m.\u001b[0m\u001b[0mcolumns\u001b[0m\u001b[0;34m.\u001b[0m\u001b[0mget_loc\u001b[0m\u001b[0;34m(\u001b[0m\u001b[0mkey\u001b[0m\u001b[0;34m)\u001b[0m\u001b[0;34m\u001b[0m\u001b[0;34m\u001b[0m\u001b[0m\n\u001b[0m\u001b[1;32m   3808\u001b[0m             \u001b[0;32mif\u001b[0m \u001b[0mis_integer\u001b[0m\u001b[0;34m(\u001b[0m\u001b[0mindexer\u001b[0m\u001b[0;34m)\u001b[0m\u001b[0;34m:\u001b[0m\u001b[0;34m\u001b[0m\u001b[0;34m\u001b[0m\u001b[0m\n\u001b[1;32m   3809\u001b[0m                 \u001b[0mindexer\u001b[0m \u001b[0;34m=\u001b[0m \u001b[0;34m[\u001b[0m\u001b[0mindexer\u001b[0m\u001b[0;34m]\u001b[0m\u001b[0;34m\u001b[0m\u001b[0;34m\u001b[0m\u001b[0m\n",
            "\u001b[0;32m/usr/local/lib/python3.10/dist-packages/pandas/core/indexes/base.py\u001b[0m in \u001b[0;36mget_loc\u001b[0;34m(self, key, method, tolerance)\u001b[0m\n\u001b[1;32m   3802\u001b[0m                 \u001b[0;32mreturn\u001b[0m \u001b[0mself\u001b[0m\u001b[0;34m.\u001b[0m\u001b[0m_engine\u001b[0m\u001b[0;34m.\u001b[0m\u001b[0mget_loc\u001b[0m\u001b[0;34m(\u001b[0m\u001b[0mcasted_key\u001b[0m\u001b[0;34m)\u001b[0m\u001b[0;34m\u001b[0m\u001b[0;34m\u001b[0m\u001b[0m\n\u001b[1;32m   3803\u001b[0m             \u001b[0;32mexcept\u001b[0m \u001b[0mKeyError\u001b[0m \u001b[0;32mas\u001b[0m \u001b[0merr\u001b[0m\u001b[0;34m:\u001b[0m\u001b[0;34m\u001b[0m\u001b[0;34m\u001b[0m\u001b[0m\n\u001b[0;32m-> 3804\u001b[0;31m                 \u001b[0;32mraise\u001b[0m \u001b[0mKeyError\u001b[0m\u001b[0;34m(\u001b[0m\u001b[0mkey\u001b[0m\u001b[0;34m)\u001b[0m \u001b[0;32mfrom\u001b[0m \u001b[0merr\u001b[0m\u001b[0;34m\u001b[0m\u001b[0;34m\u001b[0m\u001b[0m\n\u001b[0m\u001b[1;32m   3805\u001b[0m             \u001b[0;32mexcept\u001b[0m \u001b[0mTypeError\u001b[0m\u001b[0;34m:\u001b[0m\u001b[0;34m\u001b[0m\u001b[0;34m\u001b[0m\u001b[0m\n\u001b[1;32m   3806\u001b[0m                 \u001b[0;31m# If we have a listlike key, _check_indexing_error will raise\u001b[0m\u001b[0;34m\u001b[0m\u001b[0;34m\u001b[0m\u001b[0m\n",
            "\u001b[0;31mKeyError\u001b[0m: 'Invoice Date'"
          ]
        }
      ]
    },
    {
      "cell_type": "markdown",
      "source": [
        "outputting to an excel file"
      ],
      "metadata": {
        "id": "9JnK0ce-_kWc"
      }
    },
    {
      "cell_type": "code",
      "source": [
        "print(sheet_names)"
      ],
      "metadata": {
        "id": "5UurSXa0_jfI",
        "colab": {
          "base_uri": "https://localhost:8080/"
        },
        "outputId": "4cd843cd-c6ee-4a6f-a3a0-91eb159a5091"
      },
      "execution_count": null,
      "outputs": [
        {
          "output_type": "stream",
          "name": "stdout",
          "text": [
            "['Unpaid Invoices SL', 'Unpaid Invoices Addison', 'Unpaid Invoices Maspeth']\n"
          ]
        }
      ]
    },
    {
      "cell_type": "markdown",
      "source": [
        "Converting datetime column to a string"
      ],
      "metadata": {
        "id": "zM700Mqq4X3w"
      }
    },
    {
      "cell_type": "code",
      "source": [
        "def convert_datetime_to_string(df, column_name='Invoice Date', date_format='%m/%d/%Y'):\n",
        "    # Convert the specified column to the desired string format\n",
        "    df[column_name] = df[column_name].dt.strftime(date_format)\n",
        "    return df\n",
        "\n",
        "# Convert 'Invoice Date' column back to string format\n",
        "filtered_df = convert_datetime_to_string(filtered_df)\n",
        "\n",
        "# Write DataFrame to Excel\n",
        "writer = pd.ExcelWriter('output_file.xlsx', engine='xlsxwriter')\n",
        "filtered_df.to_excel(writer, index=False, sheet_name='Sheet1')\n",
        "\n",
        "# Save the Excel file\n",
        "writer.save()"
      ],
      "metadata": {
        "id": "4PnGS4F_4Xb_",
        "colab": {
          "base_uri": "https://localhost:8080/",
          "height": 245
        },
        "outputId": "8c098410-600c-4d6a-ecd1-d3d26e8f7a57"
      },
      "execution_count": null,
      "outputs": [
        {
          "output_type": "error",
          "ename": "NameError",
          "evalue": "ignored",
          "traceback": [
            "\u001b[0;31m---------------------------------------------------------------------------\u001b[0m",
            "\u001b[0;31mNameError\u001b[0m                                 Traceback (most recent call last)",
            "\u001b[0;32m<ipython-input-23-c5edcd575f4d>\u001b[0m in \u001b[0;36m<cell line: 2>\u001b[0;34m()\u001b[0m\n\u001b[1;32m      1\u001b[0m \u001b[0;31m# Convert 'Invoice Date' column back to string format\u001b[0m\u001b[0;34m\u001b[0m\u001b[0;34m\u001b[0m\u001b[0m\n\u001b[0;32m----> 2\u001b[0;31m \u001b[0mfiltered_df\u001b[0m \u001b[0;34m=\u001b[0m \u001b[0mconvert_datetime_to_string\u001b[0m\u001b[0;34m(\u001b[0m\u001b[0mfiltered_df\u001b[0m\u001b[0;34m)\u001b[0m\u001b[0;34m\u001b[0m\u001b[0;34m\u001b[0m\u001b[0m\n\u001b[0m\u001b[1;32m      3\u001b[0m \u001b[0;34m\u001b[0m\u001b[0m\n\u001b[1;32m      4\u001b[0m \u001b[0;31m# Write DataFrame to Excel\u001b[0m\u001b[0;34m\u001b[0m\u001b[0;34m\u001b[0m\u001b[0m\n\u001b[1;32m      5\u001b[0m \u001b[0mwriter\u001b[0m \u001b[0;34m=\u001b[0m \u001b[0mpd\u001b[0m\u001b[0;34m.\u001b[0m\u001b[0mExcelWriter\u001b[0m\u001b[0;34m(\u001b[0m\u001b[0;34m'output_file.xlsx'\u001b[0m\u001b[0;34m,\u001b[0m \u001b[0mengine\u001b[0m\u001b[0;34m=\u001b[0m\u001b[0;34m'xlsxwriter'\u001b[0m\u001b[0;34m)\u001b[0m\u001b[0;34m\u001b[0m\u001b[0;34m\u001b[0m\u001b[0m\n",
            "\u001b[0;31mNameError\u001b[0m: name 'convert_datetime_to_string' is not defined"
          ]
        }
      ]
    },
    {
      "cell_type": "markdown",
      "source": [
        "# Keynotes\n",
        "\n",
        "1.   Can automate with xlwings\n",
        "2.   Can improve the data accuracy wih more conditions\n",
        "3. =@IFS(P9>($A$2-7),\"Current\",P9>($A$2-14),\"Net 7\",P9>($A$2-21),\"Net 14\",P9>($A$2-28),\"Net 21\",TRUE,\"Over 28\")\n"
      ],
      "metadata": {
        "id": "Hz5n523o2_Ka"
      }
    },
    {
      "cell_type": "markdown",
      "source": [
        "code for non total due that we can use to make pivot tables/dropdown for hierarchy."
      ],
      "metadata": {
        "id": "-D56UPaXGDTk"
      }
    },
    {
      "cell_type": "code",
      "source": [
        "from datetime import datetime, timedelta\n",
        "import pandas as pd\n",
        "import glob\n",
        "import os\n",
        "\n",
        "# Function to filter the data\n",
        "def filter_data(df):\n",
        "    # Convert 'Invoice Date' to datetime\n",
        "    df['Invoice Date'] = pd.to_datetime(df['Invoice Date'])\n",
        "\n",
        "    # Identify the correct column for Cashless (either 'Cashless' or 'Cashless?')\n",
        "    cashless_column = 'Cashless Flag' if 'Cashless Flag' in df.keys() else 'Cashless'\n",
        "\n",
        "    # Filter based on the conditions: 'Invoice Date', 'Cashless', and 'Due Bill Amount' should be non-negative\n",
        "    two_days_ago = datetime.now() - timedelta(days=2)\n",
        "    filtered_df = df[(df['Invoice Date'] < two_days_ago) & (df[cashless_column] == 'Y') & (df['Due Bill Amount'] >= 0)]\n",
        "\n",
        "    # Group by 'Customer Name' and filter groups with more than one row\n",
        "    return filtered_df.groupby('Customer #').filter(lambda group: group.shape[0] > 1)\n",
        "\n",
        "# Find the latest Excel file\n",
        "path_to_reports = '/content/drive/MyDrive/reports/*.xlsx'\n",
        "list_of_files = glob.glob(path_to_reports)\n",
        "latest_file = max(list_of_files, key=os.path.getctime)\n",
        "\n",
        "# Read all sheet names\n",
        "xls = pd.ExcelFile(latest_file)\n",
        "sheet_names = xls.sheet_names\n",
        "\n",
        "# Create a writer object to save multiple sheets to a new Excel file\n",
        "output_path = '/content/drive/MyDrive/raw_for_hierarchy.xlsx'\n",
        "with pd.ExcelWriter(output_path, engine='xlsxwriter') as writer:\n",
        "    for sheet_name in sheet_names:\n",
        "        df = pd.read_excel(latest_file, sheet_name=sheet_name)\n",
        "        filtered_df = filter_data(df)\n",
        "\n",
        "        # Convert 'Invoice Date' column back to string format\n",
        "        filtered_df['Invoice Date'] = filtered_df['Invoice Date'].dt.strftime('%m/%d/%Y')\n",
        "\n",
        "        # Write DataFrame to Excel\n",
        "        filtered_df.to_excel(writer, sheet_name=sheet_name, index=False)\n",
        "\n",
        "        print(f\"Filtered data shape for sheet {sheet_name}: {filtered_df.shape}\") # Print the shape of the filtered data\n",
        "\n",
        "print(f\"File saved to {output_path}\")"
      ],
      "metadata": {
        "id": "42v-NY-3JpHI",
        "colab": {
          "base_uri": "https://localhost:8080/",
          "height": 529
        },
        "outputId": "ca2bc16a-5238-4969-c8af-a437eab6979d"
      },
      "execution_count": null,
      "outputs": [
        {
          "output_type": "stream",
          "name": "stdout",
          "text": [
            "Filtered data shape for sheet Unpaid Invoices SL: (0, 24)\n"
          ]
        },
        {
          "output_type": "error",
          "ename": "KeyError",
          "evalue": "ignored",
          "traceback": [
            "\u001b[0;31m---------------------------------------------------------------------------\u001b[0m",
            "\u001b[0;31mKeyError\u001b[0m                                  Traceback (most recent call last)",
            "\u001b[0;32m/usr/local/lib/python3.10/dist-packages/pandas/core/indexes/base.py\u001b[0m in \u001b[0;36mget_loc\u001b[0;34m(self, key, method, tolerance)\u001b[0m\n\u001b[1;32m   3801\u001b[0m             \u001b[0;32mtry\u001b[0m\u001b[0;34m:\u001b[0m\u001b[0;34m\u001b[0m\u001b[0;34m\u001b[0m\u001b[0m\n\u001b[0;32m-> 3802\u001b[0;31m                 \u001b[0;32mreturn\u001b[0m \u001b[0mself\u001b[0m\u001b[0;34m.\u001b[0m\u001b[0m_engine\u001b[0m\u001b[0;34m.\u001b[0m\u001b[0mget_loc\u001b[0m\u001b[0;34m(\u001b[0m\u001b[0mcasted_key\u001b[0m\u001b[0;34m)\u001b[0m\u001b[0;34m\u001b[0m\u001b[0;34m\u001b[0m\u001b[0m\n\u001b[0m\u001b[1;32m   3803\u001b[0m             \u001b[0;32mexcept\u001b[0m \u001b[0mKeyError\u001b[0m \u001b[0;32mas\u001b[0m \u001b[0merr\u001b[0m\u001b[0;34m:\u001b[0m\u001b[0;34m\u001b[0m\u001b[0;34m\u001b[0m\u001b[0m\n",
            "\u001b[0;32m/usr/local/lib/python3.10/dist-packages/pandas/_libs/index.pyx\u001b[0m in \u001b[0;36mpandas._libs.index.IndexEngine.get_loc\u001b[0;34m()\u001b[0m\n",
            "\u001b[0;32m/usr/local/lib/python3.10/dist-packages/pandas/_libs/index.pyx\u001b[0m in \u001b[0;36mpandas._libs.index.IndexEngine.get_loc\u001b[0;34m()\u001b[0m\n",
            "\u001b[0;32mpandas/_libs/hashtable_class_helper.pxi\u001b[0m in \u001b[0;36mpandas._libs.hashtable.PyObjectHashTable.get_item\u001b[0;34m()\u001b[0m\n",
            "\u001b[0;32mpandas/_libs/hashtable_class_helper.pxi\u001b[0m in \u001b[0;36mpandas._libs.hashtable.PyObjectHashTable.get_item\u001b[0;34m()\u001b[0m\n",
            "\u001b[0;31mKeyError\u001b[0m: 'Invoice Date'",
            "\nThe above exception was the direct cause of the following exception:\n",
            "\u001b[0;31mKeyError\u001b[0m                                  Traceback (most recent call last)",
            "\u001b[0;32m<ipython-input-10-db163ea1d89a>\u001b[0m in \u001b[0;36m<cell line: 32>\u001b[0;34m()\u001b[0m\n\u001b[1;32m     33\u001b[0m     \u001b[0;32mfor\u001b[0m \u001b[0msheet_name\u001b[0m \u001b[0;32min\u001b[0m \u001b[0msheet_names\u001b[0m\u001b[0;34m:\u001b[0m\u001b[0;34m\u001b[0m\u001b[0;34m\u001b[0m\u001b[0m\n\u001b[1;32m     34\u001b[0m         \u001b[0mdf\u001b[0m \u001b[0;34m=\u001b[0m \u001b[0mpd\u001b[0m\u001b[0;34m.\u001b[0m\u001b[0mread_excel\u001b[0m\u001b[0;34m(\u001b[0m\u001b[0mlatest_file\u001b[0m\u001b[0;34m,\u001b[0m \u001b[0msheet_name\u001b[0m\u001b[0;34m=\u001b[0m\u001b[0msheet_name\u001b[0m\u001b[0;34m)\u001b[0m\u001b[0;34m\u001b[0m\u001b[0;34m\u001b[0m\u001b[0m\n\u001b[0;32m---> 35\u001b[0;31m         \u001b[0mfiltered_df\u001b[0m \u001b[0;34m=\u001b[0m \u001b[0mfilter_data\u001b[0m\u001b[0;34m(\u001b[0m\u001b[0mdf\u001b[0m\u001b[0;34m)\u001b[0m\u001b[0;34m\u001b[0m\u001b[0;34m\u001b[0m\u001b[0m\n\u001b[0m\u001b[1;32m     36\u001b[0m \u001b[0;34m\u001b[0m\u001b[0m\n\u001b[1;32m     37\u001b[0m         \u001b[0;31m# Convert 'Invoice Date' column back to string format\u001b[0m\u001b[0;34m\u001b[0m\u001b[0;34m\u001b[0m\u001b[0m\n",
            "\u001b[0;32m<ipython-input-10-db163ea1d89a>\u001b[0m in \u001b[0;36mfilter_data\u001b[0;34m(df)\u001b[0m\n\u001b[1;32m      7\u001b[0m \u001b[0;32mdef\u001b[0m \u001b[0mfilter_data\u001b[0m\u001b[0;34m(\u001b[0m\u001b[0mdf\u001b[0m\u001b[0;34m)\u001b[0m\u001b[0;34m:\u001b[0m\u001b[0;34m\u001b[0m\u001b[0;34m\u001b[0m\u001b[0m\n\u001b[1;32m      8\u001b[0m     \u001b[0;31m# Convert 'Invoice Date' to datetime\u001b[0m\u001b[0;34m\u001b[0m\u001b[0;34m\u001b[0m\u001b[0m\n\u001b[0;32m----> 9\u001b[0;31m     \u001b[0mdf\u001b[0m\u001b[0;34m[\u001b[0m\u001b[0;34m'Invoice Date'\u001b[0m\u001b[0;34m]\u001b[0m \u001b[0;34m=\u001b[0m \u001b[0mpd\u001b[0m\u001b[0;34m.\u001b[0m\u001b[0mto_datetime\u001b[0m\u001b[0;34m(\u001b[0m\u001b[0mdf\u001b[0m\u001b[0;34m[\u001b[0m\u001b[0;34m'Invoice Date'\u001b[0m\u001b[0;34m]\u001b[0m\u001b[0;34m)\u001b[0m\u001b[0;34m\u001b[0m\u001b[0;34m\u001b[0m\u001b[0m\n\u001b[0m\u001b[1;32m     10\u001b[0m \u001b[0;34m\u001b[0m\u001b[0m\n\u001b[1;32m     11\u001b[0m     \u001b[0;31m# Identify the correct column for Cashless (either 'Cashless' or 'Cashless?')\u001b[0m\u001b[0;34m\u001b[0m\u001b[0;34m\u001b[0m\u001b[0m\n",
            "\u001b[0;32m/usr/local/lib/python3.10/dist-packages/pandas/core/frame.py\u001b[0m in \u001b[0;36m__getitem__\u001b[0;34m(self, key)\u001b[0m\n\u001b[1;32m   3805\u001b[0m             \u001b[0;32mif\u001b[0m \u001b[0mself\u001b[0m\u001b[0;34m.\u001b[0m\u001b[0mcolumns\u001b[0m\u001b[0;34m.\u001b[0m\u001b[0mnlevels\u001b[0m \u001b[0;34m>\u001b[0m \u001b[0;36m1\u001b[0m\u001b[0;34m:\u001b[0m\u001b[0;34m\u001b[0m\u001b[0;34m\u001b[0m\u001b[0m\n\u001b[1;32m   3806\u001b[0m                 \u001b[0;32mreturn\u001b[0m \u001b[0mself\u001b[0m\u001b[0;34m.\u001b[0m\u001b[0m_getitem_multilevel\u001b[0m\u001b[0;34m(\u001b[0m\u001b[0mkey\u001b[0m\u001b[0;34m)\u001b[0m\u001b[0;34m\u001b[0m\u001b[0;34m\u001b[0m\u001b[0m\n\u001b[0;32m-> 3807\u001b[0;31m             \u001b[0mindexer\u001b[0m \u001b[0;34m=\u001b[0m \u001b[0mself\u001b[0m\u001b[0;34m.\u001b[0m\u001b[0mcolumns\u001b[0m\u001b[0;34m.\u001b[0m\u001b[0mget_loc\u001b[0m\u001b[0;34m(\u001b[0m\u001b[0mkey\u001b[0m\u001b[0;34m)\u001b[0m\u001b[0;34m\u001b[0m\u001b[0;34m\u001b[0m\u001b[0m\n\u001b[0m\u001b[1;32m   3808\u001b[0m             \u001b[0;32mif\u001b[0m \u001b[0mis_integer\u001b[0m\u001b[0;34m(\u001b[0m\u001b[0mindexer\u001b[0m\u001b[0;34m)\u001b[0m\u001b[0;34m:\u001b[0m\u001b[0;34m\u001b[0m\u001b[0;34m\u001b[0m\u001b[0m\n\u001b[1;32m   3809\u001b[0m                 \u001b[0mindexer\u001b[0m \u001b[0;34m=\u001b[0m \u001b[0;34m[\u001b[0m\u001b[0mindexer\u001b[0m\u001b[0;34m]\u001b[0m\u001b[0;34m\u001b[0m\u001b[0;34m\u001b[0m\u001b[0m\n",
            "\u001b[0;32m/usr/local/lib/python3.10/dist-packages/pandas/core/indexes/base.py\u001b[0m in \u001b[0;36mget_loc\u001b[0;34m(self, key, method, tolerance)\u001b[0m\n\u001b[1;32m   3802\u001b[0m                 \u001b[0;32mreturn\u001b[0m \u001b[0mself\u001b[0m\u001b[0;34m.\u001b[0m\u001b[0m_engine\u001b[0m\u001b[0;34m.\u001b[0m\u001b[0mget_loc\u001b[0m\u001b[0;34m(\u001b[0m\u001b[0mcasted_key\u001b[0m\u001b[0;34m)\u001b[0m\u001b[0;34m\u001b[0m\u001b[0;34m\u001b[0m\u001b[0m\n\u001b[1;32m   3803\u001b[0m             \u001b[0;32mexcept\u001b[0m \u001b[0mKeyError\u001b[0m \u001b[0;32mas\u001b[0m \u001b[0merr\u001b[0m\u001b[0;34m:\u001b[0m\u001b[0;34m\u001b[0m\u001b[0;34m\u001b[0m\u001b[0m\n\u001b[0;32m-> 3804\u001b[0;31m                 \u001b[0;32mraise\u001b[0m \u001b[0mKeyError\u001b[0m\u001b[0;34m(\u001b[0m\u001b[0mkey\u001b[0m\u001b[0;34m)\u001b[0m \u001b[0;32mfrom\u001b[0m \u001b[0merr\u001b[0m\u001b[0;34m\u001b[0m\u001b[0;34m\u001b[0m\u001b[0m\n\u001b[0m\u001b[1;32m   3805\u001b[0m             \u001b[0;32mexcept\u001b[0m \u001b[0mTypeError\u001b[0m\u001b[0;34m:\u001b[0m\u001b[0;34m\u001b[0m\u001b[0;34m\u001b[0m\u001b[0m\n\u001b[1;32m   3806\u001b[0m                 \u001b[0;31m# If we have a listlike key, _check_indexing_error will raise\u001b[0m\u001b[0;34m\u001b[0m\u001b[0;34m\u001b[0m\u001b[0m\n",
            "\u001b[0;31mKeyError\u001b[0m: 'Invoice Date'"
          ]
        }
      ]
    },
    {
      "cell_type": "code",
      "source": [
        "path_to_reports"
      ],
      "metadata": {
        "colab": {
          "base_uri": "https://localhost:8080/",
          "height": 35
        },
        "id": "WSVKe9V0M1q5",
        "outputId": "d4ad741b-276b-4987-fa04-3cc6a634e202"
      },
      "execution_count": null,
      "outputs": [
        {
          "output_type": "execute_result",
          "data": {
            "text/plain": [
              "'/content/drive/MyDrive/reports/*.xlsx'"
            ],
            "application/vnd.google.colaboratory.intrinsic+json": {
              "type": "string"
            }
          },
          "metadata": {},
          "execution_count": 5
        }
      ]
    },
    {
      "cell_type": "markdown",
      "source": [
        "google email, process file and return output\n",
        "site -> input file -> output data\n",
        "excel addon"
      ],
      "metadata": {
        "id": "Usty0bUnmq0c"
      }
    },
    {
      "cell_type": "code",
      "source": [],
      "metadata": {
        "id": "Td2O8QFamy36"
      },
      "execution_count": null,
      "outputs": []
    }
  ]
}